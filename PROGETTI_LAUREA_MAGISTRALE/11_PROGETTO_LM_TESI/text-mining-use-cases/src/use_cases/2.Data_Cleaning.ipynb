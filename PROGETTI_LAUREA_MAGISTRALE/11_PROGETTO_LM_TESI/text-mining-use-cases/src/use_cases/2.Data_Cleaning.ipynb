{
 "cells": [
  {
   "cell_type": "markdown",
   "metadata": {},
   "source": [
    "---\n",
    "# Import Libraries\n",
    "---"
   ]
  },
  {
   "cell_type": "code",
   "execution_count": 1,
   "metadata": {},
   "outputs": [
    {
     "name": "stderr",
     "output_type": "stream",
     "text": [
      "[nltk_data] Downloading package names to /home/shared_data/textmining_\n",
      "[nltk_data]     genderrecognition_topicextraction/nltk...\n",
      "[nltk_data]   Package names is already up-to-date!\n"
     ]
    }
   ],
   "source": [
    "import numpy as np \n",
    "import pandas \n",
    "import csv\n",
    "import warnings\n",
    "import nltk\n",
    "import os\n",
    "import time\n",
    "from pathlib import Path\n",
    "nltk.download('names', download_dir='/home/shared_data/textmining_genderrecognition_topicextraction/nltk')\n",
    "from nltk.corpus import names\n",
    "warnings.filterwarnings(\"ignore\")\n",
    "src='/home/shared_data/textmining_genderrecognition_topicextraction/dataset_text_mining_Reuters_RCV2/'"
   ]
  },
  {
   "cell_type": "markdown",
   "metadata": {},
   "source": [
    "---\n",
    "# Upload Data\n",
    "---"
   ]
  },
  {
   "cell_type": "code",
   "execution_count": 2,
   "metadata": {},
   "outputs": [
    {
     "name": "stdout",
     "output_type": "stream",
     "text": [
      "806801\n"
     ]
    },
    {
     "data": {
      "text/html": [
       "<div>\n",
       "<style scoped>\n",
       "    .dataframe tbody tr th:only-of-type {\n",
       "        vertical-align: middle;\n",
       "    }\n",
       "\n",
       "    .dataframe tbody tr th {\n",
       "        vertical-align: top;\n",
       "    }\n",
       "\n",
       "    .dataframe thead th {\n",
       "        text-align: right;\n",
       "    }\n",
       "</style>\n",
       "<table border=\"1\" class=\"dataframe\">\n",
       "  <thead>\n",
       "    <tr style=\"text-align: right;\">\n",
       "      <th></th>\n",
       "      <th>title</th>\n",
       "      <th>headline</th>\n",
       "      <th>autore</th>\n",
       "      <th>code</th>\n",
       "      <th>text</th>\n",
       "    </tr>\n",
       "  </thead>\n",
       "  <tbody>\n",
       "    <tr>\n",
       "      <th>0</th>\n",
       "      <td>UK: UK shares set for nervous week,upside seen...</td>\n",
       "      <td>UK shares set for nervous week,upside seen lim...</td>\n",
       "      <td>Dale Faulken</td>\n",
       "      <td>UK,M11,MCAT</td>\n",
       "      <td>The UK share market is unlikely to make much h...</td>\n",
       "    </tr>\n",
       "    <tr>\n",
       "      <th>1</th>\n",
       "      <td>USA: CBOT wheat ends mostly lower on weather.</td>\n",
       "      <td>CBOT wheat ends mostly lower on weather.</td>\n",
       "      <td>NaN</td>\n",
       "      <td>USA,M14,M141,MCAT</td>\n",
       "      <td>CBOT soft red winter wheat futures closed most...</td>\n",
       "    </tr>\n",
       "  </tbody>\n",
       "</table>\n",
       "</div>"
      ],
      "text/plain": [
       "                                               title  \\\n",
       "0  UK: UK shares set for nervous week,upside seen...   \n",
       "1      USA: CBOT wheat ends mostly lower on weather.   \n",
       "\n",
       "                                            headline        autore  \\\n",
       "0  UK shares set for nervous week,upside seen lim...  Dale Faulken   \n",
       "1           CBOT wheat ends mostly lower on weather.           NaN   \n",
       "\n",
       "                code                                               text  \n",
       "0        UK,M11,MCAT  The UK share market is unlikely to make much h...  \n",
       "1  USA,M14,M141,MCAT  CBOT soft red winter wheat futures closed most...  "
      ]
     },
     "execution_count": 2,
     "metadata": {},
     "output_type": "execute_result"
    }
   ],
   "source": [
    "path_file=src+\"rcv.csv\"\n",
    "df=pandas.read_csv(path_file)\n",
    "print(len(df))\n",
    "df.head(2)"
   ]
  },
  {
   "cell_type": "code",
   "execution_count": 3,
   "metadata": {},
   "outputs": [
    {
     "data": {
      "text/html": [
       "<div>\n",
       "<style scoped>\n",
       "    .dataframe tbody tr th:only-of-type {\n",
       "        vertical-align: middle;\n",
       "    }\n",
       "\n",
       "    .dataframe tbody tr th {\n",
       "        vertical-align: top;\n",
       "    }\n",
       "\n",
       "    .dataframe thead th {\n",
       "        text-align: right;\n",
       "    }\n",
       "</style>\n",
       "<table border=\"1\" class=\"dataframe\">\n",
       "  <thead>\n",
       "    <tr style=\"text-align: right;\">\n",
       "      <th></th>\n",
       "      <th>topic_code</th>\n",
       "      <th>description</th>\n",
       "    </tr>\n",
       "  </thead>\n",
       "  <tbody>\n",
       "    <tr>\n",
       "      <th>0</th>\n",
       "      <td>1POL</td>\n",
       "      <td>CURRENT NEWS - POLITICS</td>\n",
       "    </tr>\n",
       "    <tr>\n",
       "      <th>1</th>\n",
       "      <td>2ECO</td>\n",
       "      <td>CURRENT NEWS - ECONOMICS</td>\n",
       "    </tr>\n",
       "  </tbody>\n",
       "</table>\n",
       "</div>"
      ],
      "text/plain": [
       "  topic_code               description\n",
       "0       1POL   CURRENT NEWS - POLITICS\n",
       "1       2ECO  CURRENT NEWS - ECONOMICS"
      ]
     },
     "execution_count": 3,
     "metadata": {},
     "output_type": "execute_result"
    }
   ],
   "source": [
    "industry_codes=pandas.read_csv(src+'industry_codes.csv')\n",
    "region_codes=pandas.read_csv(src+'region_codes.csv')\n",
    "topic_codes=pandas.read_csv(src+'topic_codes.csv')\n",
    "topic_codes.head(2)"
   ]
  },
  {
   "cell_type": "markdown",
   "metadata": {},
   "source": [
    "---\n",
    "# Data analysis\n",
    "---"
   ]
  },
  {
   "cell_type": "code",
   "execution_count": 4,
   "metadata": {},
   "outputs": [
    {
     "name": "stdout",
     "output_type": "stream",
     "text": [
      "803070\n"
     ]
    },
    {
     "data": {
      "text/html": [
       "<div>\n",
       "<style scoped>\n",
       "    .dataframe tbody tr th:only-of-type {\n",
       "        vertical-align: middle;\n",
       "    }\n",
       "\n",
       "    .dataframe tbody tr th {\n",
       "        vertical-align: top;\n",
       "    }\n",
       "\n",
       "    .dataframe thead th {\n",
       "        text-align: right;\n",
       "    }\n",
       "</style>\n",
       "<table border=\"1\" class=\"dataframe\">\n",
       "  <thead>\n",
       "    <tr style=\"text-align: right;\">\n",
       "      <th></th>\n",
       "      <th>title</th>\n",
       "      <th>headline</th>\n",
       "      <th>autore</th>\n",
       "      <th>code</th>\n",
       "      <th>text</th>\n",
       "    </tr>\n",
       "  </thead>\n",
       "  <tbody>\n",
       "    <tr>\n",
       "      <th>0</th>\n",
       "      <td>UK: UK shares set for nervous week,upside seen...</td>\n",
       "      <td>UK shares set for nervous week,upside seen lim...</td>\n",
       "      <td>Dale Faulken</td>\n",
       "      <td>UK,M11,MCAT</td>\n",
       "      <td>The UK share market is unlikely to make much h...</td>\n",
       "    </tr>\n",
       "    <tr>\n",
       "      <th>1</th>\n",
       "      <td>USA: CBOT wheat ends mostly lower on weather.</td>\n",
       "      <td>CBOT wheat ends mostly lower on weather.</td>\n",
       "      <td>NaN</td>\n",
       "      <td>USA,M14,M141,MCAT</td>\n",
       "      <td>CBOT soft red winter wheat futures closed most...</td>\n",
       "    </tr>\n",
       "  </tbody>\n",
       "</table>\n",
       "</div>"
      ],
      "text/plain": [
       "                                               title  \\\n",
       "0  UK: UK shares set for nervous week,upside seen...   \n",
       "1      USA: CBOT wheat ends mostly lower on weather.   \n",
       "\n",
       "                                            headline        autore  \\\n",
       "0  UK shares set for nervous week,upside seen lim...  Dale Faulken   \n",
       "1           CBOT wheat ends mostly lower on weather.           NaN   \n",
       "\n",
       "                code                                               text  \n",
       "0        UK,M11,MCAT  The UK share market is unlikely to make much h...  \n",
       "1  USA,M14,M141,MCAT  CBOT soft red winter wheat futures closed most...  "
      ]
     },
     "execution_count": 4,
     "metadata": {},
     "output_type": "execute_result"
    }
   ],
   "source": [
    "df_prova=df.copy()\n",
    "df_without_duplicates = df_prova.drop_duplicates()\n",
    "df_without_duplicates.reset_index(drop=True,inplace=True)\n",
    "print(len(df_without_duplicates))\n",
    "df_without_duplicates.head(2)"
   ]
  },
  {
   "cell_type": "code",
   "execution_count": 5,
   "metadata": {},
   "outputs": [
    {
     "data": {
      "text/plain": [
       "title            1\n",
       "headline         8\n",
       "autore      694436\n",
       "code             0\n",
       "text             4\n",
       "dtype: int64"
      ]
     },
     "execution_count": 5,
     "metadata": {},
     "output_type": "execute_result"
    }
   ],
   "source": [
    "df_without_duplicates.isna().sum()"
   ]
  },
  {
   "cell_type": "markdown",
   "metadata": {},
   "source": [
    "## Elimination of lines with nan text\n",
    "---"
   ]
  },
  {
   "cell_type": "code",
   "execution_count": 6,
   "metadata": {},
   "outputs": [],
   "source": [
    "df_without_duplicates=df_without_duplicates.dropna( subset=['text']).reset_index(drop=True)"
   ]
  },
  {
   "cell_type": "code",
   "execution_count": 7,
   "metadata": {},
   "outputs": [
    {
     "data": {
      "text/plain": [
       "title            1\n",
       "headline         8\n",
       "autore      694432\n",
       "code             0\n",
       "text             0\n",
       "dtype: int64"
      ]
     },
     "execution_count": 7,
     "metadata": {},
     "output_type": "execute_result"
    }
   ],
   "source": [
    "df_without_duplicates.isna().sum()"
   ]
  },
  {
   "cell_type": "markdown",
   "metadata": {},
   "source": [
    "---\n",
    "# Gender labels creation\n",
    "---"
   ]
  },
  {
   "cell_type": "code",
   "execution_count": 8,
   "metadata": {},
   "outputs": [
    {
     "name": "stdout",
     "output_type": "stream",
     "text": [
      "autori non nan (autori totali - autori quelli nan): 108630\n",
      "auotri Tot(nome e cognome univoci): 2400\n"
     ]
    }
   ],
   "source": [
    "print('autori non nan (autori totali - autori quelli nan):',len(df_without_duplicates)-694436)\n",
    "autori = df_without_duplicates[df_without_duplicates['autore'].notna()]['autore']\n",
    "print('auotri Tot(nome e cognome univoci):',len(autori.unique()))"
   ]
  },
  {
   "cell_type": "code",
   "execution_count": 9,
   "metadata": {},
   "outputs": [
    {
     "name": "stdout",
     "output_type": "stream",
     "text": [
      "females-> 4997 females-> 2943\n"
     ]
    }
   ],
   "source": [
    "src_nltk_name='/home/shared_data/textmining_genderrecognition_topicextraction/nltk/corpora/names/'\n",
    "males_txt = open(src_nltk_name+'male.txt','r')\n",
    "females_txt= open(src_nltk_name+'female.txt','r')\n",
    "males=[]\n",
    "females=[]\n",
    "for line in males_txt:\n",
    "    males.append(line.strip().lower())\n",
    "for line in females_txt:\n",
    "    females.append(line.strip().lower())\n",
    "males_txt.close()\n",
    "females_txt.close()\n",
    "\n",
    "males=np.unique(np.array(males))\n",
    "females=np.unique(np.array(females))\n",
    "print(\"females->\",len(females),'females->',len(males))"
   ]
  },
  {
   "cell_type": "code",
   "execution_count": 10,
   "metadata": {},
   "outputs": [],
   "source": [
    "def find_gender(autori,neutri):\n",
    "    genere= {}\n",
    "    first_name_autore=[]\n",
    "    for autore in autori:\n",
    "        if str(autore)!='nan':\n",
    "            first_name=autore.split(' ')[0].lower()\n",
    "            first_name_autore.append(first_name)\n",
    "            if(first_name in list(neutri)):\n",
    "                genere[first_name]='Neutral'\n",
    "            elif(first_name in list(males)):\n",
    "                genere[first_name]='Male'\n",
    "            elif(first_name in list(females)):\n",
    "                genere[first_name]='Female'\n",
    "            else:\n",
    "                genere[first_name]='Unknown'\n",
    "        else:\n",
    "            genere[str(autore)]='Unknown'\n",
    "    print('nomi autori(univoci):',len(genere))\n",
    "    genere_autori = np.array(df_without_duplicates['autore'])\n",
    "    i=0\n",
    "    for aut in genere_autori:\n",
    "        if str(aut)=='nan':\n",
    "            genere_autori[i]='Unknown'\n",
    "        else:\n",
    "            first_name=aut.split(' ')[0].lower()\n",
    "            genere_autori[i]=genere[first_name]\n",
    "        i+=1\n",
    "    return genere_autori,genere,np.unique(np.array(first_name_autore))\n",
    "\n",
    "autori = df_without_duplicates[df_without_duplicates['autore'].notna()]['autore'].unique()"
   ]
  },
  {
   "cell_type": "code",
   "execution_count": 11,
   "metadata": {},
   "outputs": [
    {
     "name": "stdout",
     "output_type": "stream",
     "text": [
      "nomi autori(univoci): 1182\n",
      "neutri in ds: 77\n",
      "valori 495 Unknown\n",
      "conta totale righe maschi femm: 79659 su 803066\n"
     ]
    },
    {
     "data": {
      "text/html": [
       "<div>\n",
       "<style scoped>\n",
       "    .dataframe tbody tr th:only-of-type {\n",
       "        vertical-align: middle;\n",
       "    }\n",
       "\n",
       "    .dataframe tbody tr th {\n",
       "        vertical-align: top;\n",
       "    }\n",
       "\n",
       "    .dataframe thead th {\n",
       "        text-align: right;\n",
       "    }\n",
       "</style>\n",
       "<table border=\"1\" class=\"dataframe\">\n",
       "  <thead>\n",
       "    <tr style=\"text-align: right;\">\n",
       "      <th></th>\n",
       "      <th>title</th>\n",
       "      <th>headline</th>\n",
       "      <th>autore</th>\n",
       "      <th>code</th>\n",
       "      <th>text</th>\n",
       "      <th>Genere</th>\n",
       "    </tr>\n",
       "  </thead>\n",
       "  <tbody>\n",
       "    <tr>\n",
       "      <th>0</th>\n",
       "      <td>UK: UK shares set for nervous week,upside seen...</td>\n",
       "      <td>UK shares set for nervous week,upside seen lim...</td>\n",
       "      <td>Dale Faulken</td>\n",
       "      <td>UK,M11,MCAT</td>\n",
       "      <td>The UK share market is unlikely to make much h...</td>\n",
       "      <td>Neutral</td>\n",
       "    </tr>\n",
       "    <tr>\n",
       "      <th>1</th>\n",
       "      <td>USA: CBOT wheat ends mostly lower on weather.</td>\n",
       "      <td>CBOT wheat ends mostly lower on weather.</td>\n",
       "      <td>NaN</td>\n",
       "      <td>USA,M14,M141,MCAT</td>\n",
       "      <td>CBOT soft red winter wheat futures closed most...</td>\n",
       "      <td>Unknown</td>\n",
       "    </tr>\n",
       "  </tbody>\n",
       "</table>\n",
       "</div>"
      ],
      "text/plain": [
       "                                               title  \\\n",
       "0  UK: UK shares set for nervous week,upside seen...   \n",
       "1      USA: CBOT wheat ends mostly lower on weather.   \n",
       "\n",
       "                                            headline        autore  \\\n",
       "0  UK shares set for nervous week,upside seen lim...  Dale Faulken   \n",
       "1           CBOT wheat ends mostly lower on weather.           NaN   \n",
       "\n",
       "                code                                               text  \\\n",
       "0        UK,M11,MCAT  The UK share market is unlikely to make much h...   \n",
       "1  USA,M14,M141,MCAT  CBOT soft red winter wheat futures closed most...   \n",
       "\n",
       "    Genere  \n",
       "0  Neutral  \n",
       "1  Unknown  "
      ]
     },
     "execution_count": 11,
     "metadata": {},
     "output_type": "execute_result"
    }
   ],
   "source": [
    "# nomi neutrali nel db\n",
    "neutri=[]\n",
    "for n in males:\n",
    "    if n in females:\n",
    "        neutri.append(n)\n",
    "\n",
    "genere_autori,genere,first_name_autore=find_gender(autori,neutri)\n",
    "\n",
    "neutri_in_ds=[]\n",
    "for i in first_name_autore:\n",
    "    if i in neutri:\n",
    "        neutri_in_ds.append(i)\n",
    "print('neutri in ds:',len(neutri_in_ds))\n",
    "\n",
    "non_trovati=[]\n",
    "for k in genere.keys():\n",
    "    if(genere[k]=='Unknown'):\n",
    "        non_trovati.append(k)\n",
    "print('valori',len(non_trovati),'Unknown')\n",
    "\n",
    "df_without_duplicates['Genere']=genere_autori\n",
    "conta_totale_righe_maschi_femm=((df_without_duplicates['Genere']=='Female').sum())+((df_without_duplicates['Genere']=='Male').sum())\n",
    "print('conta totale righe maschi femm:',conta_totale_righe_maschi_femm,\"su\",len(df_without_duplicates))\n",
    "\n",
    "df_without_duplicates.head(2)"
   ]
  },
  {
   "cell_type": "markdown",
   "metadata": {},
   "source": [
    "---\n",
    "# Enter the codes of the industries and topics regions\n",
    "---"
   ]
  },
  {
   "cell_type": "code",
   "execution_count": 12,
   "metadata": {},
   "outputs": [
    {
     "name": "stdout",
     "output_type": "stream",
     "text": [
      "elaborati 200000 record!\n",
      "elaborati 400000 record!\n",
      "elaborati 600000 record!\n",
      "elaborati 800000 record!\n",
      "tempo impiegato per dividere le colonna in tre(region_codes, industries_codes e topics_codes) vettori è di: 00h:04m:35s\n"
     ]
    },
    {
     "data": {
      "text/html": [
       "<div>\n",
       "<style scoped>\n",
       "    .dataframe tbody tr th:only-of-type {\n",
       "        vertical-align: middle;\n",
       "    }\n",
       "\n",
       "    .dataframe tbody tr th {\n",
       "        vertical-align: top;\n",
       "    }\n",
       "\n",
       "    .dataframe thead th {\n",
       "        text-align: right;\n",
       "    }\n",
       "</style>\n",
       "<table border=\"1\" class=\"dataframe\">\n",
       "  <thead>\n",
       "    <tr style=\"text-align: right;\">\n",
       "      <th></th>\n",
       "      <th>title</th>\n",
       "      <th>headline</th>\n",
       "      <th>autore</th>\n",
       "      <th>code</th>\n",
       "      <th>text</th>\n",
       "      <th>Genere</th>\n",
       "      <th>industry_codes</th>\n",
       "      <th>region_codes</th>\n",
       "      <th>topic_codes</th>\n",
       "    </tr>\n",
       "  </thead>\n",
       "  <tbody>\n",
       "    <tr>\n",
       "      <th>0</th>\n",
       "      <td>UK: UK shares set for nervous week,upside seen...</td>\n",
       "      <td>UK shares set for nervous week,upside seen lim...</td>\n",
       "      <td>Dale Faulken</td>\n",
       "      <td>UK,M11,MCAT</td>\n",
       "      <td>The UK share market is unlikely to make much h...</td>\n",
       "      <td>Neutral</td>\n",
       "      <td></td>\n",
       "      <td>UK</td>\n",
       "      <td>M11,MCAT</td>\n",
       "    </tr>\n",
       "    <tr>\n",
       "      <th>1</th>\n",
       "      <td>USA: CBOT wheat ends mostly lower on weather.</td>\n",
       "      <td>CBOT wheat ends mostly lower on weather.</td>\n",
       "      <td>NaN</td>\n",
       "      <td>USA,M14,M141,MCAT</td>\n",
       "      <td>CBOT soft red winter wheat futures closed most...</td>\n",
       "      <td>Unknown</td>\n",
       "      <td></td>\n",
       "      <td>USA</td>\n",
       "      <td>M14,M141,MCAT</td>\n",
       "    </tr>\n",
       "  </tbody>\n",
       "</table>\n",
       "</div>"
      ],
      "text/plain": [
       "                                               title  \\\n",
       "0  UK: UK shares set for nervous week,upside seen...   \n",
       "1      USA: CBOT wheat ends mostly lower on weather.   \n",
       "\n",
       "                                            headline        autore  \\\n",
       "0  UK shares set for nervous week,upside seen lim...  Dale Faulken   \n",
       "1           CBOT wheat ends mostly lower on weather.           NaN   \n",
       "\n",
       "                code                                               text  \\\n",
       "0        UK,M11,MCAT  The UK share market is unlikely to make much h...   \n",
       "1  USA,M14,M141,MCAT  CBOT soft red winter wheat futures closed most...   \n",
       "\n",
       "    Genere industry_codes region_codes    topic_codes  \n",
       "0  Neutral                          UK       M11,MCAT  \n",
       "1  Unknown                         USA  M14,M141,MCAT  "
      ]
     },
     "execution_count": 12,
     "metadata": {},
     "output_type": "execute_result"
    }
   ],
   "source": [
    "def splitta_codes(df_without_duplicates):\n",
    "    cod=df_without_duplicates['code']\n",
    "    industry_codes_list=industry_codes['industry_code'].values\n",
    "    region_codes_list=region_codes['region_code'].values\n",
    "    topic_codes_list=topic_codes['topic_code'].values\n",
    "    df_code_industry=[]\n",
    "    df_code_region=[]\n",
    "    df_code_topic=[]\n",
    "\n",
    "    i=0\n",
    "    check=200000\n",
    "    start = time.time()\n",
    "    for code_record in cod.values:\n",
    "        codici=code_record.split(',')\n",
    "        single_industry=[]\n",
    "        single_region=[]\n",
    "        single_topic=[]\n",
    "        for c in codici:\n",
    "            if c in industry_codes_list:\n",
    "                single_industry.append(c)\n",
    "            elif c in region_codes_list:\n",
    "                single_region.append(c)\n",
    "            elif c in topic_codes_list:\n",
    "                single_topic.append(c)\n",
    "        df_code_industry.append(str(\",\".join(single_industry)))\n",
    "        df_code_region.append(str(\",\".join(single_region)))\n",
    "        df_code_topic.append(str(\",\".join(single_topic))) \n",
    "        if(i%check==0 and i!=0):\n",
    "            print('elaborati',i,'record!')\n",
    "        i+=1\n",
    "\n",
    "    end = time.time()\n",
    "    t = time.strftime(\"%Hh:%Mm:%Ss\",time.gmtime(int(end)-int(start)))\n",
    "    print(\"tempo impiegato per dividere le colonna in tre(region_codes, industries_codes e topics_codes) vettori è di: \"+t)\n",
    "    df_without_duplicates['industry_codes']=df_code_industry\n",
    "    df_without_duplicates['region_codes']=df_code_region\n",
    "    df_without_duplicates['topic_codes']=df_code_topic\n",
    "splitta_codes(df_without_duplicates)\n",
    "df_without_duplicates.head(2)"
   ]
  },
  {
   "cell_type": "markdown",
   "metadata": {},
   "source": [
    "---\n",
    "# Writing Prepared data\n",
    "---"
   ]
  },
  {
   "cell_type": "code",
   "execution_count": 13,
   "metadata": {},
   "outputs": [],
   "source": [
    "if not Path(src+\"clean_dataset_with_label.csv\").exists():\n",
    "    df_without_duplicates.to_csv(src+\"clean_dataset_with_label.csv\", index=False)"
   ]
  },
  {
   "cell_type": "markdown",
   "metadata": {},
   "source": [
    "---\n",
    "# Multilangual dataset preparation\n",
    "---"
   ]
  },
  {
   "cell_type": "code",
   "execution_count": 14,
   "metadata": {},
   "outputs": [
    {
     "name": "stdout",
     "output_type": "stream",
     "text": [
      "487357\n"
     ]
    },
    {
     "data": {
      "text/html": [
       "<div>\n",
       "<style scoped>\n",
       "    .dataframe tbody tr th:only-of-type {\n",
       "        vertical-align: middle;\n",
       "    }\n",
       "\n",
       "    .dataframe tbody tr th {\n",
       "        vertical-align: top;\n",
       "    }\n",
       "\n",
       "    .dataframe thead th {\n",
       "        text-align: right;\n",
       "    }\n",
       "</style>\n",
       "<table border=\"1\" class=\"dataframe\">\n",
       "  <thead>\n",
       "    <tr style=\"text-align: right;\">\n",
       "      <th></th>\n",
       "      <th>title</th>\n",
       "      <th>headline</th>\n",
       "      <th>autore</th>\n",
       "      <th>code</th>\n",
       "      <th>text</th>\n",
       "    </tr>\n",
       "  </thead>\n",
       "  <tbody>\n",
       "    <tr>\n",
       "      <th>0</th>\n",
       "      <td>NaN</td>\n",
       "      <td>[台灣央行]標售50億台幣1個月期NCDs加權平均得標利率為6.385%</td>\n",
       "      <td>NaN</td>\n",
       "      <td>ASIAZ,DEVGCOZ,EASIAZ,TAIWAN,M13,MCAT</td>\n",
       "      <td>〔路透社台北24日電〕　　台灣央行週四午後標售50億台幣的1個月期可轉讓定期存單(NCDs...</td>\n",
       "    </tr>\n",
       "    <tr>\n",
       "      <th>1</th>\n",
       "      <td>NaN</td>\n",
       "      <td>美國經濟學家預期今年民間借款需求相當不錯</td>\n",
       "      <td>NaN</td>\n",
       "      <td>NAMZ,USA,USAZ,USW,E12,ECAT</td>\n",
       "      <td>〔路透社紐約29日電〕　　美國著名經濟學家考夫曼表示,美國經濟成長強勁,加上短期利率僅會小...</td>\n",
       "    </tr>\n",
       "  </tbody>\n",
       "</table>\n",
       "</div>"
      ],
      "text/plain": [
       "   title                                headline  autore  \\\n",
       "0    NaN   [台灣央行]標售50億台幣1個月期NCDs加權平均得標利率為6.385%      NaN   \n",
       "1    NaN                   美國經濟學家預期今年民間借款需求相當不錯      NaN   \n",
       "\n",
       "                                   code  \\\n",
       "0  ASIAZ,DEVGCOZ,EASIAZ,TAIWAN,M13,MCAT   \n",
       "1            NAMZ,USA,USAZ,USW,E12,ECAT   \n",
       "\n",
       "                                                text  \n",
       "0   〔路透社台北24日電〕　　台灣央行週四午後標售50億台幣的1個月期可轉讓定期存單(NCDs...  \n",
       "1   〔路透社紐約29日電〕　　美國著名經濟學家考夫曼表示,美國經濟成長強勁,加上短期利率僅會小...  "
      ]
     },
     "execution_count": 14,
     "metadata": {},
     "output_type": "execute_result"
    }
   ],
   "source": [
    "path_file_multilingual=src+\"rcv_multilingual.csv\"\n",
    "df_multilingual=pandas.read_csv(path_file_multilingual)\n",
    "print(len(df_multilingual))\n",
    "df_multilingual.head(2)"
   ]
  },
  {
   "cell_type": "code",
   "execution_count": 15,
   "metadata": {},
   "outputs": [
    {
     "name": "stdout",
     "output_type": "stream",
     "text": [
      "439495\n"
     ]
    },
    {
     "data": {
      "text/html": [
       "<div>\n",
       "<style scoped>\n",
       "    .dataframe tbody tr th:only-of-type {\n",
       "        vertical-align: middle;\n",
       "    }\n",
       "\n",
       "    .dataframe tbody tr th {\n",
       "        vertical-align: top;\n",
       "    }\n",
       "\n",
       "    .dataframe thead th {\n",
       "        text-align: right;\n",
       "    }\n",
       "</style>\n",
       "<table border=\"1\" class=\"dataframe\">\n",
       "  <thead>\n",
       "    <tr style=\"text-align: right;\">\n",
       "      <th></th>\n",
       "      <th>title</th>\n",
       "      <th>headline</th>\n",
       "      <th>autore</th>\n",
       "      <th>code</th>\n",
       "      <th>text</th>\n",
       "    </tr>\n",
       "  </thead>\n",
       "  <tbody>\n",
       "    <tr>\n",
       "      <th>0</th>\n",
       "      <td>NaN</td>\n",
       "      <td>[台灣央行]標售50億台幣1個月期NCDs加權平均得標利率為6.385%</td>\n",
       "      <td>NaN</td>\n",
       "      <td>ASIAZ,DEVGCOZ,EASIAZ,TAIWAN,M13,MCAT</td>\n",
       "      <td>〔路透社台北24日電〕　　台灣央行週四午後標售50億台幣的1個月期可轉讓定期存單(NCDs...</td>\n",
       "    </tr>\n",
       "    <tr>\n",
       "      <th>1</th>\n",
       "      <td>NaN</td>\n",
       "      <td>美國經濟學家預期今年民間借款需求相當不錯</td>\n",
       "      <td>NaN</td>\n",
       "      <td>NAMZ,USA,USAZ,USW,E12,ECAT</td>\n",
       "      <td>〔路透社紐約29日電〕　　美國著名經濟學家考夫曼表示,美國經濟成長強勁,加上短期利率僅會小...</td>\n",
       "    </tr>\n",
       "  </tbody>\n",
       "</table>\n",
       "</div>"
      ],
      "text/plain": [
       "   title                                headline  autore  \\\n",
       "0    NaN   [台灣央行]標售50億台幣1個月期NCDs加權平均得標利率為6.385%      NaN   \n",
       "1    NaN                   美國經濟學家預期今年民間借款需求相當不錯      NaN   \n",
       "\n",
       "                                   code  \\\n",
       "0  ASIAZ,DEVGCOZ,EASIAZ,TAIWAN,M13,MCAT   \n",
       "1            NAMZ,USA,USAZ,USW,E12,ECAT   \n",
       "\n",
       "                                                text  \n",
       "0   〔路透社台北24日電〕　　台灣央行週四午後標售50億台幣的1個月期可轉讓定期存單(NCDs...  \n",
       "1   〔路透社紐約29日電〕　　美國著名經濟學家考夫曼表示,美國經濟成長強勁,加上短期利率僅會小...  "
      ]
     },
     "execution_count": 15,
     "metadata": {},
     "output_type": "execute_result"
    }
   ],
   "source": [
    "df_prova_multilingual=df_multilingual.copy()\n",
    "df_without_duplicates_multilingual = df_prova_multilingual.drop_duplicates()\n",
    "df_without_duplicates_multilingual.reset_index(drop=True,inplace=True)\n",
    "print(len(df_without_duplicates_multilingual))\n",
    "df_without_duplicates_multilingual.head(2)"
   ]
  },
  {
   "cell_type": "code",
   "execution_count": 16,
   "metadata": {},
   "outputs": [
    {
     "data": {
      "text/plain": [
       "title       439495\n",
       "headline         1\n",
       "autore      439495\n",
       "code             2\n",
       "text             1\n",
       "dtype: int64"
      ]
     },
     "execution_count": 16,
     "metadata": {},
     "output_type": "execute_result"
    }
   ],
   "source": [
    "df_without_duplicates_multilingual.isna().sum()"
   ]
  },
  {
   "cell_type": "code",
   "execution_count": 17,
   "metadata": {},
   "outputs": [
    {
     "data": {
      "text/plain": [
       "title       439493\n",
       "headline         0\n",
       "autore      439493\n",
       "code             0\n",
       "text             0\n",
       "dtype: int64"
      ]
     },
     "execution_count": 17,
     "metadata": {},
     "output_type": "execute_result"
    }
   ],
   "source": [
    "df_without_duplicates_multilingual=df_without_duplicates_multilingual.dropna( subset=['text','code']).reset_index(drop=True)\n",
    "df_without_duplicates_multilingual.isna().sum()"
   ]
  },
  {
   "cell_type": "markdown",
   "metadata": {},
   "source": [
    "## Creation of multilingual gender labels\n",
    "---"
   ]
  },
  {
   "cell_type": "code",
   "execution_count": 18,
   "metadata": {},
   "outputs": [
    {
     "name": "stdout",
     "output_type": "stream",
     "text": [
      "autori non nan (autori totali - autori quelli nan): -1\n",
      "auotri Tot(nome e cognome univoci): 0\n"
     ]
    }
   ],
   "source": [
    "print('autori non nan (autori totali - autori quelli nan):',len(df_without_duplicates_multilingual)-439494)\n",
    "autori_multilingual = df_without_duplicates_multilingual[df_without_duplicates_multilingual['autore'].notna()]['autore']\n",
    "print('auotri Tot(nome e cognome univoci):',len(autori_multilingual.unique()))"
   ]
  },
  {
   "cell_type": "code",
   "execution_count": 19,
   "metadata": {},
   "outputs": [
    {
     "data": {
      "text/html": [
       "<div>\n",
       "<style scoped>\n",
       "    .dataframe tbody tr th:only-of-type {\n",
       "        vertical-align: middle;\n",
       "    }\n",
       "\n",
       "    .dataframe tbody tr th {\n",
       "        vertical-align: top;\n",
       "    }\n",
       "\n",
       "    .dataframe thead th {\n",
       "        text-align: right;\n",
       "    }\n",
       "</style>\n",
       "<table border=\"1\" class=\"dataframe\">\n",
       "  <thead>\n",
       "    <tr style=\"text-align: right;\">\n",
       "      <th></th>\n",
       "      <th>title</th>\n",
       "      <th>headline</th>\n",
       "      <th>autore</th>\n",
       "      <th>code</th>\n",
       "      <th>text</th>\n",
       "    </tr>\n",
       "  </thead>\n",
       "  <tbody>\n",
       "    <tr>\n",
       "      <th>0</th>\n",
       "      <td>NaN</td>\n",
       "      <td>[台灣央行]標售50億台幣1個月期NCDs加權平均得標利率為6.385%</td>\n",
       "      <td>Unknown</td>\n",
       "      <td>ASIAZ,DEVGCOZ,EASIAZ,TAIWAN,M13,MCAT</td>\n",
       "      <td>〔路透社台北24日電〕　　台灣央行週四午後標售50億台幣的1個月期可轉讓定期存單(NCDs...</td>\n",
       "    </tr>\n",
       "    <tr>\n",
       "      <th>1</th>\n",
       "      <td>NaN</td>\n",
       "      <td>美國經濟學家預期今年民間借款需求相當不錯</td>\n",
       "      <td>Unknown</td>\n",
       "      <td>NAMZ,USA,USAZ,USW,E12,ECAT</td>\n",
       "      <td>〔路透社紐約29日電〕　　美國著名經濟學家考夫曼表示,美國經濟成長強勁,加上短期利率僅會小...</td>\n",
       "    </tr>\n",
       "  </tbody>\n",
       "</table>\n",
       "</div>"
      ],
      "text/plain": [
       "   title                                headline   autore  \\\n",
       "0    NaN   [台灣央行]標售50億台幣1個月期NCDs加權平均得標利率為6.385%   Unknown   \n",
       "1    NaN                   美國經濟學家預期今年民間借款需求相當不錯   Unknown   \n",
       "\n",
       "                                   code  \\\n",
       "0  ASIAZ,DEVGCOZ,EASIAZ,TAIWAN,M13,MCAT   \n",
       "1            NAMZ,USA,USAZ,USW,E12,ECAT   \n",
       "\n",
       "                                                text  \n",
       "0   〔路透社台北24日電〕　　台灣央行週四午後標售50億台幣的1個月期可轉讓定期存單(NCDs...  \n",
       "1   〔路透社紐約29日電〕　　美國著名經濟學家考夫曼表示,美國經濟成長強勁,加上短期利率僅會小...  "
      ]
     },
     "execution_count": 19,
     "metadata": {},
     "output_type": "execute_result"
    }
   ],
   "source": [
    "df_without_duplicates_multilingual['autore']='Unknown'\n",
    "df_without_duplicates_multilingual.head(2)"
   ]
  },
  {
   "cell_type": "markdown",
   "metadata": {},
   "source": [
    "---\n",
    "# Enter the codes of the industries and topics regions into multilingual Dataset\n",
    "---"
   ]
  },
  {
   "cell_type": "code",
   "execution_count": 20,
   "metadata": {},
   "outputs": [
    {
     "name": "stdout",
     "output_type": "stream",
     "text": [
      "elaborati 200000 record!\n",
      "elaborati 400000 record!\n",
      "tempo impiegato per dividere le colonna in tre(region_codes, industries_codes e topics_codes) vettori è di: 00h:04m:44s\n"
     ]
    },
    {
     "data": {
      "text/html": [
       "<div>\n",
       "<style scoped>\n",
       "    .dataframe tbody tr th:only-of-type {\n",
       "        vertical-align: middle;\n",
       "    }\n",
       "\n",
       "    .dataframe tbody tr th {\n",
       "        vertical-align: top;\n",
       "    }\n",
       "\n",
       "    .dataframe thead th {\n",
       "        text-align: right;\n",
       "    }\n",
       "</style>\n",
       "<table border=\"1\" class=\"dataframe\">\n",
       "  <thead>\n",
       "    <tr style=\"text-align: right;\">\n",
       "      <th></th>\n",
       "      <th>title</th>\n",
       "      <th>headline</th>\n",
       "      <th>autore</th>\n",
       "      <th>code</th>\n",
       "      <th>text</th>\n",
       "      <th>industry_codes</th>\n",
       "      <th>region_codes</th>\n",
       "      <th>topic_codes</th>\n",
       "    </tr>\n",
       "  </thead>\n",
       "  <tbody>\n",
       "    <tr>\n",
       "      <th>0</th>\n",
       "      <td>NaN</td>\n",
       "      <td>[台灣央行]標售50億台幣1個月期NCDs加權平均得標利率為6.385%</td>\n",
       "      <td>Unknown</td>\n",
       "      <td>ASIAZ,DEVGCOZ,EASIAZ,TAIWAN,M13,MCAT</td>\n",
       "      <td>〔路透社台北24日電〕　　台灣央行週四午後標售50億台幣的1個月期可轉讓定期存單(NCDs...</td>\n",
       "      <td></td>\n",
       "      <td>TAIWAN</td>\n",
       "      <td>M13,MCAT</td>\n",
       "    </tr>\n",
       "    <tr>\n",
       "      <th>1</th>\n",
       "      <td>NaN</td>\n",
       "      <td>美國經濟學家預期今年民間借款需求相當不錯</td>\n",
       "      <td>Unknown</td>\n",
       "      <td>NAMZ,USA,USAZ,USW,E12,ECAT</td>\n",
       "      <td>〔路透社紐約29日電〕　　美國著名經濟學家考夫曼表示,美國經濟成長強勁,加上短期利率僅會小...</td>\n",
       "      <td></td>\n",
       "      <td>USA</td>\n",
       "      <td>E12,ECAT</td>\n",
       "    </tr>\n",
       "  </tbody>\n",
       "</table>\n",
       "</div>"
      ],
      "text/plain": [
       "   title                                headline   autore  \\\n",
       "0    NaN   [台灣央行]標售50億台幣1個月期NCDs加權平均得標利率為6.385%   Unknown   \n",
       "1    NaN                   美國經濟學家預期今年民間借款需求相當不錯   Unknown   \n",
       "\n",
       "                                   code  \\\n",
       "0  ASIAZ,DEVGCOZ,EASIAZ,TAIWAN,M13,MCAT   \n",
       "1            NAMZ,USA,USAZ,USW,E12,ECAT   \n",
       "\n",
       "                                                text industry_codes  \\\n",
       "0   〔路透社台北24日電〕　　台灣央行週四午後標售50億台幣的1個月期可轉讓定期存單(NCDs...                  \n",
       "1   〔路透社紐約29日電〕　　美國著名經濟學家考夫曼表示,美國經濟成長強勁,加上短期利率僅會小...                  \n",
       "\n",
       "  region_codes topic_codes  \n",
       "0       TAIWAN    M13,MCAT  \n",
       "1          USA    E12,ECAT  "
      ]
     },
     "execution_count": 20,
     "metadata": {},
     "output_type": "execute_result"
    }
   ],
   "source": [
    "splitta_codes(df_without_duplicates_multilingual)\n",
    "df_without_duplicates_multilingual.head(2)"
   ]
  },
  {
   "cell_type": "markdown",
   "metadata": {},
   "source": [
    "---\n",
    "## Writing Prepared multilingual data\n",
    "--- "
   ]
  },
  {
   "cell_type": "code",
   "execution_count": 21,
   "metadata": {},
   "outputs": [],
   "source": [
    "if not Path(src+\"clean_dataset_with_label_multilingual.csv\").exists():\n",
    "    df_without_duplicates_multilingual.to_csv(src+\"clean_dataset_with_label_multilingual.csv\", index=False)"
   ]
  }
 ],
 "metadata": {
  "kernelspec": {
   "display_name": "Python 3",
   "language": "python",
   "name": "python3"
  },
  "language_info": {
   "codemirror_mode": {
    "name": "ipython",
    "version": 3
   },
   "file_extension": ".py",
   "mimetype": "text/x-python",
   "name": "python",
   "nbconvert_exporter": "python",
   "pygments_lexer": "ipython3",
   "version": "3.6.9"
  },
  "widgets": {
   "application/vnd.jupyter.widget-state+json": {
    "state": {},
    "version_major": 2,
    "version_minor": 0
   }
  }
 },
 "nbformat": 4,
 "nbformat_minor": 4
}
