{
 "cells": [
  {
   "cell_type": "markdown",
   "metadata": {},
   "source": [
    "# CREATE DATASETS FOR STORAGE GSP"
   ]
  },
  {
   "cell_type": "code",
   "execution_count": 26,
   "metadata": {},
   "outputs": [],
   "source": [
    "import numpy as np \n",
    "import pandas \n",
    "import csv\n",
    "import warnings\n",
    "import nltk\n",
    "import os\n",
    "import string\n",
    "import time\n",
    "import pickle\n",
    "import seaborn as sns\n",
    "import random\n",
    "import csv\n",
    "from pathlib import Path\n",
    "import matplotlib.pyplot as plt\n",
    "from sklearn.model_selection import train_test_split,cross_val_score,StratifiedKFold\n",
    "from sklearn.feature_extraction.text import TfidfTransformer\n",
    "from sklearn.feature_extraction.text import CountVectorizer\n",
    "from sklearn.manifold import TSNE\n",
    "warnings.filterwarnings(\"ignore\")\n",
    "src='/home/shared_data/textmining_genderrecognition_topicextraction/dataset_text_mining_Reuters_RCV2/'"
   ]
  },
  {
   "cell_type": "code",
   "execution_count": 30,
   "metadata": {},
   "outputs": [],
   "source": [
    "with open(src+'GCP_TEXT_AND_LABEL_PROCESSED.csv', 'r') as temp:\n",
    "    Data_Set=pandas.read_csv(temp)"
   ]
  },
  {
   "cell_type": "code",
   "execution_count": 22,
   "metadata": {},
   "outputs": [
    {
     "name": "stdout",
     "output_type": "stream",
     "text": [
      "Size iniziale dei record: 158674 \n",
      "Size train ds: 111071 \n",
      "Size validation ds: 31894 \n",
      "Size test ds: 15709\n"
     ]
    }
   ],
   "source": [
    "train, test_d= train_test_split(Data_Set, test_size=0.30, random_state=42,stratify=Data_Set['code'])\n",
    "validation, test = train_test_split(test_d, test_size=0.33, random_state=42,stratify=test_d['code'])\n",
    "train=train.reset_index(drop=True)\n",
    "validation=validation.reset_index(drop=True)\n",
    "test=test.reset_index(drop=True)\n",
    "print('Size iniziale dei record:',len(list(Data_Set['text'])),'\\nSize train ds:',len(train),'\\nSize validation ds:',len(validation),'\\nSize test ds:',len(test))"
   ]
  },
  {
   "cell_type": "code",
   "execution_count": 25,
   "metadata": {},
   "outputs": [],
   "source": [
    "with open(src+'GCP_TEXT_AND_LABEL_PROCESSED_TRAIN.csv', 'w') as temp:\n",
    "    train.to_csv(temp, index=False)\n",
    "with open(src+'GCP_TEXT_AND_LABEL_PROCESSED_VALIDATION.csv', 'w') as temp:\n",
    "    validation.to_csv(temp, index=False)\n",
    "with open(src+'GCP_TEXT_AND_LABEL_PROCESSED_TEST.csv', 'w') as temp:\n",
    "    test.to_csv(temp, index=False)"
   ]
  },
  {
   "cell_type": "code",
   "execution_count": 3,
   "metadata": {},
   "outputs": [
    {
     "name": "stdout",
     "output_type": "stream",
     "text": [
      "prima---> 158674 !\n",
      "ora---> 158674 , eliminati 0 record su 800803 !\n"
     ]
    }
   ],
   "source": [
    "delete=0\n",
    "start_row=35\n",
    "end_row=150 #len(Data_Set)\n",
    "print('prima--->',len(Data_Set),'!')\n",
    "delete=len(Data_Set[(Data_Set['text'].map(lambda x: len(x.split(' ')))> end_row) ])+len(Data_Set[(Data_Set['text'].map(lambda x: len(x.split(' ')))< start_row)])\n",
    "Data_Set = Data_Set[(Data_Set['text'].map(lambda x: len(x.split(' ')))<= end_row) ]\n",
    "Data_Set = Data_Set[(Data_Set['text'].map(lambda x: len(x.split(' ')))>= start_row) ]\n",
    "Data_Set = Data_Set.reset_index(drop=True)\n",
    "print('ora--->',len(Data_Set),', eliminati',delete,'record su',800803 ,'!')\n",
    "\n",
    "with open(\"myDictionary_labels.npy\", \"rb\") as tf:\n",
    "    new_dict = np.load(tf, allow_pickle='TRUE')\n",
    "new_dict.item()"
   ]
  },
  {
   "cell_type": "code",
   "execution_count": null,
   "metadata": {},
   "outputs": [],
   "source": [
    "def crea_label_vector(Data_Set):\n",
    "    y_label_code_reduced=[]\n",
    "    for index, row in Data_Set.iterrows():\n",
    "        row=list(row['target'][1:len(row['target'])-1].split(\",\"))\n",
    "        row_t=[ int(x) for x in row ]\n",
    "        y_label_code_reduced.append(row_t)\n",
    "    print('size ridotta',len(y_label_code_reduced))\n",
    "    return y_label_code_reduced\n",
    "\n",
    "class_names_list=new_dict.item()\n",
    "target_names=[x for x in class_names_list.keys()]\n",
    "y_label_code_reduced=crea_label_vector(Data_Set)"
   ]
  },
  {
   "cell_type": "code",
   "execution_count": null,
   "metadata": {},
   "outputs": [],
   "source": [
    "def stat_ds(y_label_code_reduced):\n",
    "    x=np.zeros(len(y_label_code_reduced[0]),dtype=int)\n",
    "    for v in y_label_code_reduced:\n",
    "        x=x+v\n",
    "    c=0\n",
    "    for v in x:\n",
    "        if v==0:\n",
    "            c+=1\n",
    "    print(x)\n",
    "    print('esempi = 0 :',c)\n",
    "    #percentuali sull'intero dataset\n",
    "    xx=x.copy()\n",
    "    z=[]\n",
    "    for l in xx:\n",
    "        z.append(str(round((l/len(Data_Set))*100,1))+'%')\n",
    "    print(z)\n",
    "    return x#,[float(x[:4]) for x in z]\n",
    "\n",
    "def _red_list_bal(y_label_code_reduced):\n",
    "    c=stat_ds(y_label_code_reduced)\n",
    "    min_l=min(c)\n",
    "    red=[0,0,0,0]\n",
    "    ind=0\n",
    "    for i in c:\n",
    "        if i!=min_l:\n",
    "            val=c[ind]#int((i/100)*len(Data_Set))\n",
    "            red[ind]=val-min_l#int((min_l/100)*len(Data_Set))\n",
    "        else:\n",
    "            red[ind]=1\n",
    "        ind+=1\n",
    "    return red\n",
    "\n",
    "def indx_permutati(Data_Set):\n",
    "    random.seed(42)\n",
    "    ind_ds=random.sample(range(len(Data_Set)), len(Data_Set))\n",
    "    return ind_ds\n",
    "\n",
    "def bilancia(Data_Set):\n",
    "    size_prima=len(Data_Set)\n",
    "    conta1=0\n",
    "    conta2=0\n",
    "    conta3=0\n",
    "    conta4=0\n",
    "    index=0\n",
    "    red=_red_list_bal(y_label_code_reduced)\n",
    "    indx_perm=indx_permutati(Data_Set)\n",
    "    index_list=[]\n",
    "    row_list=Data_Set['target'].tolist()\n",
    "    for row_ind in indx_perm:\n",
    "        row=row_list[row_ind]\n",
    "        row=list(row[1:len(row)-1].split(\",\"))\n",
    "        row_t=[int(x) for x in row]\n",
    "        if sum(row_t)==1:\n",
    "            if row_t[0]==1 and conta1<red[0]:\n",
    "                index_list.append(row_ind)\n",
    "                conta1+=1\n",
    "            if row_t[1]==1 and conta1<red[1]:\n",
    "                index_list.append(row_ind)\n",
    "                conta2+=1\n",
    "            if row_t[2]==1 and conta3<red[2]:\n",
    "                index_list.append(row_ind)\n",
    "                conta3+=1\n",
    "            if row_t[3]==1 and conta4<red[3]:\n",
    "                index_list.append(row_ind)\n",
    "                conta4+=1\n",
    "        \n",
    "        index+=1\n",
    "        if index%100000==0 and index!=0:\n",
    "            print('analizzati',index)\n",
    "    Data_Set.drop(index_list, inplace=True)\n",
    "    Data_Set.reset_index(drop=True)\n",
    "    print('eliminati come prima label',conta1,'\\neliminati come seconda label',conta2,'\\neliminati come terza label',conta3,'\\neliminati come quarta label',conta4,'\\nsize ridotta da',size_prima,'a',len(Data_Set))\n",
    "    return Data_Set\n",
    "\n",
    "stat_ds_list=stat_ds(y_label_code_reduced)  \n",
    "Data_Set=bilancia(Data_Set)\n",
    "y_label_code_reduced=crea_label_vector(Data_Set)\n",
    "stat_ds(y_label_code_reduced)"
   ]
  },
  {
   "cell_type": "code",
   "execution_count": null,
   "metadata": {},
   "outputs": [],
   "source": [
    "# Data_Set=Data_Set.reset_index(drop=True)\n",
    "Data_Set=Data_Set[['text','code']]\n",
    "Data_Set"
   ]
  },
  {
   "cell_type": "code",
   "execution_count": 7,
   "metadata": {},
   "outputs": [],
   "source": [
    "with open(src+'GCP_TEXT_AND_LABEL_PROCESSED.csv', 'w') as temp:\n",
    "    Data_Set.to_csv(temp, index=False)"
   ]
  },
  {
   "cell_type": "markdown",
   "metadata": {},
   "source": [
    "# 59 label"
   ]
  },
  {
   "cell_type": "code",
   "execution_count": 72,
   "metadata": {},
   "outputs": [],
   "source": [
    "with open(src+'GCP_TEXT_AND_LABEL_PROCESSED_59.csv', 'r') as temp:\n",
    "    Data_Set=pandas.read_csv(temp)"
   ]
  },
  {
   "cell_type": "code",
   "execution_count": 73,
   "metadata": {},
   "outputs": [
    {
     "data": {
      "text/html": [
       "<div>\n",
       "<style scoped>\n",
       "    .dataframe tbody tr th:only-of-type {\n",
       "        vertical-align: middle;\n",
       "    }\n",
       "\n",
       "    .dataframe tbody tr th {\n",
       "        vertical-align: top;\n",
       "    }\n",
       "\n",
       "    .dataframe thead th {\n",
       "        text-align: right;\n",
       "    }\n",
       "</style>\n",
       "<table border=\"1\" class=\"dataframe\">\n",
       "  <thead>\n",
       "    <tr style=\"text-align: right;\">\n",
       "      <th></th>\n",
       "      <th>text</th>\n",
       "      <th>target</th>\n",
       "      <th>code</th>\n",
       "    </tr>\n",
       "  </thead>\n",
       "  <tbody>\n",
       "    <tr>\n",
       "      <th>0</th>\n",
       "      <td>uk share market unlikely make much headway nex...</td>\n",
       "      <td>[0, 0, 0, 0, 0, 0, 0, 0, 0, 0, 0, 0, 0, 0, 0, ...</td>\n",
       "      <td>MCAT,M11</td>\n",
       "    </tr>\n",
       "    <tr>\n",
       "      <th>1</th>\n",
       "      <td>cbot soft red winter wheat futures closed most...</td>\n",
       "      <td>[0, 0, 0, 0, 0, 0, 0, 0, 0, 0, 0, 0, 0, 0, 0, ...</td>\n",
       "      <td>MCAT,M14</td>\n",
       "    </tr>\n",
       "    <tr>\n",
       "      <th>2</th>\n",
       "      <td>beijing friday condemned u.s. sanctions impose...</td>\n",
       "      <td>[0, 0, 0, 0, 0, 0, 0, 0, 0, 0, 0, 0, 0, 0, 0, ...</td>\n",
       "      <td>ECAT,GDIP,E51,GCAT</td>\n",
       "    </tr>\n",
       "    <tr>\n",
       "      <th>3</th>\n",
       "      <td>year march 31 1998 billions yen unless specifi...</td>\n",
       "      <td>[0, 0, 0, 0, 1, 0, 0, 0, 0, 0, 0, 0, 0, 0, 0, ...</td>\n",
       "      <td>CCAT,C15</td>\n",
       "    </tr>\n",
       "    <tr>\n",
       "      <th>4</th>\n",
       "      <td>pregnant ira bomb suspect released bail friday...</td>\n",
       "      <td>[0, 0, 0, 0, 0, 0, 0, 0, 0, 0, 0, 0, 0, 0, 0, ...</td>\n",
       "      <td>GCRIM,GVIO,GPOL,GCAT</td>\n",
       "    </tr>\n",
       "    <tr>\n",
       "      <th>...</th>\n",
       "      <td>...</td>\n",
       "      <td>...</td>\n",
       "      <td>...</td>\n",
       "    </tr>\n",
       "    <tr>\n",
       "      <th>800798</th>\n",
       "      <td>slovenian development fund state 's restructur...</td>\n",
       "      <td>[0, 0, 0, 0, 0, 0, 0, 1, 0, 0, 0, 0, 0, 0, 0, ...</td>\n",
       "      <td>CCAT,C18</td>\n",
       "    </tr>\n",
       "    <tr>\n",
       "      <th>800799</th>\n",
       "      <td>slow development widely variable corn crop con...</td>\n",
       "      <td>[0, 0, 0, 0, 0, 0, 0, 0, 1, 0, 0, 1, 0, 0, 0, ...</td>\n",
       "      <td>C21,CCAT,C24</td>\n",
       "    </tr>\n",
       "    <tr>\n",
       "      <th>800800</th>\n",
       "      <td>nbc series quot er quot emmy award sunday best...</td>\n",
       "      <td>[0, 0, 0, 0, 0, 0, 0, 0, 0, 0, 0, 0, 0, 0, 0, ...</td>\n",
       "      <td>GENT,GCAT</td>\n",
       "    </tr>\n",
       "    <tr>\n",
       "      <th>800801</th>\n",
       "      <td>sun-diamond growers california went court mond...</td>\n",
       "      <td>[0, 1, 0, 0, 0, 0, 0, 0, 0, 0, 0, 0, 0, 0, 0, ...</td>\n",
       "      <td>GCRIM,C12,C41</td>\n",
       "    </tr>\n",
       "    <tr>\n",
       "      <th>800802</th>\n",
       "      <td>hungary 's forint closed firmer dollar monday ...</td>\n",
       "      <td>[0, 0, 0, 0, 0, 0, 0, 0, 0, 0, 0, 0, 0, 0, 0, ...</td>\n",
       "      <td>MCAT,M13</td>\n",
       "    </tr>\n",
       "  </tbody>\n",
       "</table>\n",
       "<p>800803 rows × 3 columns</p>\n",
       "</div>"
      ],
      "text/plain": [
       "                                                     text  \\\n",
       "0       uk share market unlikely make much headway nex...   \n",
       "1       cbot soft red winter wheat futures closed most...   \n",
       "2       beijing friday condemned u.s. sanctions impose...   \n",
       "3       year march 31 1998 billions yen unless specifi...   \n",
       "4       pregnant ira bomb suspect released bail friday...   \n",
       "...                                                   ...   \n",
       "800798  slovenian development fund state 's restructur...   \n",
       "800799  slow development widely variable corn crop con...   \n",
       "800800  nbc series quot er quot emmy award sunday best...   \n",
       "800801  sun-diamond growers california went court mond...   \n",
       "800802  hungary 's forint closed firmer dollar monday ...   \n",
       "\n",
       "                                                   target  \\\n",
       "0       [0, 0, 0, 0, 0, 0, 0, 0, 0, 0, 0, 0, 0, 0, 0, ...   \n",
       "1       [0, 0, 0, 0, 0, 0, 0, 0, 0, 0, 0, 0, 0, 0, 0, ...   \n",
       "2       [0, 0, 0, 0, 0, 0, 0, 0, 0, 0, 0, 0, 0, 0, 0, ...   \n",
       "3       [0, 0, 0, 0, 1, 0, 0, 0, 0, 0, 0, 0, 0, 0, 0, ...   \n",
       "4       [0, 0, 0, 0, 0, 0, 0, 0, 0, 0, 0, 0, 0, 0, 0, ...   \n",
       "...                                                   ...   \n",
       "800798  [0, 0, 0, 0, 0, 0, 0, 1, 0, 0, 0, 0, 0, 0, 0, ...   \n",
       "800799  [0, 0, 0, 0, 0, 0, 0, 0, 1, 0, 0, 1, 0, 0, 0, ...   \n",
       "800800  [0, 0, 0, 0, 0, 0, 0, 0, 0, 0, 0, 0, 0, 0, 0, ...   \n",
       "800801  [0, 1, 0, 0, 0, 0, 0, 0, 0, 0, 0, 0, 0, 0, 0, ...   \n",
       "800802  [0, 0, 0, 0, 0, 0, 0, 0, 0, 0, 0, 0, 0, 0, 0, ...   \n",
       "\n",
       "                        code  \n",
       "0                   MCAT,M11  \n",
       "1                   MCAT,M14  \n",
       "2         ECAT,GDIP,E51,GCAT  \n",
       "3                   CCAT,C15  \n",
       "4       GCRIM,GVIO,GPOL,GCAT  \n",
       "...                      ...  \n",
       "800798              CCAT,C18  \n",
       "800799          C21,CCAT,C24  \n",
       "800800             GENT,GCAT  \n",
       "800801         GCRIM,C12,C41  \n",
       "800802              MCAT,M13  \n",
       "\n",
       "[800803 rows x 3 columns]"
      ]
     },
     "execution_count": 73,
     "metadata": {},
     "output_type": "execute_result"
    }
   ],
   "source": [
    "Data_Set"
   ]
  },
  {
   "cell_type": "code",
   "execution_count": 74,
   "metadata": {},
   "outputs": [
    {
     "name": "stdout",
     "output_type": "stream",
     "text": [
      "prima---> 800803 !\n",
      "ora---> 439176 , eliminati 361627 record su 800803 !\n"
     ]
    }
   ],
   "source": [
    "delete=0\n",
    "start_row=35\n",
    "end_row=150 #len(Data_Set)\n",
    "print('prima--->',len(Data_Set),'!')\n",
    "delete=len(Data_Set[(Data_Set['text'].map(lambda x: len(x.split(' ')))> end_row) ])+len(Data_Set[(Data_Set['text'].map(lambda x: len(x.split(' ')))< start_row)])\n",
    "Data_Set = Data_Set[(Data_Set['text'].map(lambda x: len(x.split(' ')))<= end_row) ]\n",
    "Data_Set = Data_Set[(Data_Set['text'].map(lambda x: len(x.split(' ')))>= start_row) ]\n",
    "Data_Set = Data_Set.reset_index(drop=True)\n",
    "print('ora--->',len(Data_Set),', eliminati',delete,'record su',800803 ,'!')"
   ]
  },
  {
   "cell_type": "code",
   "execution_count": null,
   "metadata": {},
   "outputs": [],
   "source": [
    "with open(\"myDictionary_labels_59.npy\", \"rb\") as tf:\n",
    "    new_dict = np.load(tf, allow_pickle='TRUE')"
   ]
  },
  {
   "cell_type": "code",
   "execution_count": 76,
   "metadata": {},
   "outputs": [
    {
     "name": "stdout",
     "output_type": "stream",
     "text": [
      "size ridotta 439176\n"
     ]
    }
   ],
   "source": [
    "class_names_list=new_dict.item()\n",
    "target_names=[x for x in class_names_list.keys()]\n",
    "y_label_code_reduced=crea_label_vector(Data_Set)"
   ]
  },
  {
   "cell_type": "code",
   "execution_count": 77,
   "metadata": {},
   "outputs": [
    {
     "name": "stdout",
     "output_type": "stream",
     "text": [
      "[ 13361   5551  17971   5193 103562   1099  29159  33986  14754   3645\n",
      "   1553  18998  21455    831  11067   2140   7937   5680 241052   3408\n",
      "  11588   3878   1120  21222   1296   8306   9384    170    508  55102\n",
      "   7877  93065  13457   2873  11469   4773   1228   2510     83   2395\n",
      "   8326      4    390   1686  17135   1928    866    690  14836    329\n",
      "   9850   2929   2186    722  21357  11237  29883  49077 107149]\n",
      "esempi = 0 : 0\n",
      "['3.0%', '1.3%', '4.1%', '1.2%', '23.6%', '0.3%', '6.6%', '7.7%', '3.4%', '0.8%', '0.4%', '4.3%', '4.9%', '0.2%', '2.5%', '0.5%', '1.8%', '1.3%', '54.9%', '0.8%', '2.6%', '0.9%', '0.3%', '4.8%', '0.3%', '1.9%', '2.1%', '0.0%', '0.1%', '12.5%', '1.8%', '21.2%', '3.1%', '0.7%', '2.6%', '1.1%', '0.3%', '0.6%', '0.0%', '0.5%', '1.9%', '0.0%', '0.1%', '0.4%', '3.9%', '0.4%', '0.2%', '0.2%', '3.4%', '0.1%', '2.2%', '0.7%', '0.5%', '0.2%', '4.9%', '2.6%', '6.8%', '11.2%', '24.4%']\n"
     ]
    }
   ],
   "source": [
    "stat_ds_list=stat_ds(y_label_code_reduced)  "
   ]
  },
  {
   "cell_type": "code",
   "execution_count": 81,
   "metadata": {},
   "outputs": [],
   "source": [
    "Data_Set=Data_Set.reset_index(drop=True)\n",
    "Data_Set"
   ]
  },
  {
   "cell_type": "code",
   "execution_count": 82,
   "metadata": {},
   "outputs": [],
   "source": [
    "with open(src+'GCP_TEXT_AND_LABEL_PROCESSED_59.csv', 'w') as temp:\n",
    "    Data_Set.to_csv(temp, index=False)"
   ]
  },
  {
   "cell_type": "code",
   "execution_count": 2,
   "metadata": {},
   "outputs": [
    {
     "name": "stdout",
     "output_type": "stream",
     "text": [
      "1\n",
      "2\n",
      "3\n",
      "4\n",
      "5\n",
      "6\n",
      "7\n",
      "8\n",
      "9\n",
      "10\n",
      "11\n",
      "12\n",
      "13\n",
      "14\n",
      "15\n",
      "16\n",
      "17\n",
      "18\n",
      "19\n",
      "20\n",
      "21\n",
      "22\n",
      "23\n",
      "24\n",
      "25\n",
      "26\n",
      "27\n",
      "28\n",
      "29\n",
      "30\n",
      "31\n",
      "32\n",
      "33\n",
      "34\n",
      "35\n",
      "36\n",
      "37\n",
      "38\n",
      "39\n",
      "40\n",
      "41\n",
      "42\n",
      "43\n",
      "44\n",
      "45\n",
      "46\n",
      "47\n",
      "48\n",
      "49\n",
      "50\n",
      "51\n",
      "52\n",
      "53\n",
      "54\n",
      "55\n",
      "56\n",
      "57\n",
      "58\n",
      "59\n",
      "60\n",
      "61\n",
      "62\n",
      "63\n",
      "64\n",
      "65\n",
      "66\n",
      "67\n",
      "68\n",
      "69\n",
      "70\n",
      "71\n",
      "72\n",
      "73\n",
      "74\n",
      "75\n",
      "76\n",
      "77\n",
      "78\n",
      "79\n",
      "80\n",
      "81\n",
      "82\n",
      "83\n",
      "84\n",
      "85\n",
      "86\n",
      "87\n",
      "88\n",
      "89\n",
      "90\n",
      "91\n",
      "92\n",
      "93\n",
      "94\n",
      "95\n",
      "96\n",
      "97\n",
      "98\n",
      "99\n",
      "100\n",
      "101\n",
      "102\n",
      "103\n",
      "104\n",
      "105\n",
      "106\n",
      "107\n",
      "108\n",
      "109\n",
      "110\n",
      "111\n",
      "112\n",
      "113\n",
      "114\n",
      "115\n",
      "116\n",
      "117\n",
      "118\n",
      "119\n",
      "120\n",
      "121\n",
      "122\n",
      "123\n",
      "124\n",
      "125\n",
      "126\n"
     ]
    }
   ],
   "source": [
    "for i in range (1,127):\n",
    "    print(i)"
   ]
  },
  {
   "cell_type": "code",
   "execution_count": null,
   "metadata": {},
   "outputs": [],
   "source": []
  }
 ],
 "metadata": {
  "kernelspec": {
   "display_name": "Python 3",
   "language": "python",
   "name": "python3"
  },
  "language_info": {
   "codemirror_mode": {
    "name": "ipython",
    "version": 3
   },
   "file_extension": ".py",
   "mimetype": "text/x-python",
   "name": "python",
   "nbconvert_exporter": "python",
   "pygments_lexer": "ipython3",
   "version": "3.6.9"
  }
 },
 "nbformat": 4,
 "nbformat_minor": 4
}
